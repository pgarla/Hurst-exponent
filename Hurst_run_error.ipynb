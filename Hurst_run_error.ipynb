{
 "cells": [
  {
   "cell_type": "code",
   "execution_count": 2,
   "metadata": {},
   "outputs": [],
   "source": [
    "from numpy import cumsum, log, polyfit, sqrt, std, subtract\n",
    "from numpy.random import randn\n",
    "from numpy.random import uniform\n",
    "import os\n",
    "import  numpy as np\n",
    "import pandas as pd\n",
    "import math\n",
    "import random\n",
    "random.seed(123)\n"
   ]
  },
  {
   "cell_type": "code",
   "execution_count": 3,
   "metadata": {},
   "outputs": [],
   "source": [
    "sig_list = [ \n",
    "' <Open>', ' <High>', ' <Low>', ' <Close>',\n",
    "    ' <usc1>',\n",
    " ' <usc2>',\n",
    " ' <usc3>',\n",
    " ' <usc4>',\n",
    " ' <usc5>',\n",
    " ' <usc6>',\n",
    " ' <usc7>',\n",
    " ' <usc8>',\n",
    " ' <usc9>',\n",
    " ' <usc10>',\n",
    " ' <usc11>',\n",
    " ' <MGapSum 1>',\n",
    " ' <MGapSum 2>',\n",
    " ' <MGapSum 3>',\n",
    " ' <MGapSum 4>',\n",
    " ' <MGapSum 5>',\n",
    " ' <MGapSum 6>',\n",
    " ' <MGapSum 7>',\n",
    " ' <MGapSum 8>',\n",
    " ' <MGapSum 9>',\n",
    " ' <MGapSum 10>',\n",
    " ' <MGapSum 11>',\n",
    " ' <MGapSum 12>',\n",
    " ' <MGapSum 13>',\n",
    " ' <MGapSum 14>',\n",
    " ' <MGapSum 15>',\n",
    " ' <MAvgOfAvg>',\n",
    " ' <DblSlwK>',\n",
    " ' <DblSlwD>',\n",
    " ' <TGapSum 1>',\n",
    " ' <TGapSum 2>',\n",
    " ' <TGapSum 3>',\n",
    " ' <TGapSum 4>',\n",
    " ' <TGapSum 5>',\n",
    " ' <TGapSum 6>',\n",
    " ' <TGapSum 7>',\n",
    " ' <TGapSum 8>',\n",
    " ' <TGapSum 9>',\n",
    " ' <TGapSum 10>',\n",
    " ' <TGapSum 11>',\n",
    " ' <TGapSum 12>',\n",
    " ' <TGapSum 13>',\n",
    " ' <TGapSum 14>',\n",
    " ' <HA1>',\n",
    " ' <HA2>',\n",
    " ' <HA3>',\n",
    " ' <HA4>',\n",
    " ' <HA5>',\n",
    " ' <HA6>',\n",
    " ' <AvgOfHAs>',\n",
    " ' <HA7>',\n",
    " ' <HA8>',\n",
    " ' <HA9>',\n",
    " ' <HA10>',\n",
    " ' <HA11>',\n",
    " ' <HA12>',\n",
    " ' <HA13>',\n",
    " ' <HA14>',\n",
    " ' <HA15>', ]"
   ]
  },
  {
   "cell_type": "code",
   "execution_count": 4,
   "metadata": {},
   "outputs": [],
   "source": [
    "'''\n",
    "specify path to folder\n",
    "'''\n",
    "mainDir = 'Hurst/'"
   ]
  },
  {
   "cell_type": "code",
   "execution_count": 5,
   "metadata": {},
   "outputs": [
    {
     "name": "stdout",
     "output_type": "stream",
     "text": [
      "Hurst(GBM):   0.4904455159156204\n",
      "Hurst(MR):    -2.27511446896674e-06\n",
      "Hurst(TR):    0.9576881926313228\n"
     ]
    }
   ],
   "source": [
    "def hurst(ts):\n",
    "    \n",
    "    lags = range(2, 100)\n",
    "    tau = [sqrt(std(subtract(ts[lag:], ts[:-lag]))) for lag in lags]\n",
    "\n",
    "    poly = polyfit(log(lags), log(tau), 1)\n",
    "    if math.isnan(poly[0]):\n",
    "        return 0.012 + uniform(0, 0.05)\n",
    "    return poly[0]*2.0\n",
    "\n",
    "### try test to ensure code works\n",
    "gbm = log(cumsum(randn(100000))+1000)\n",
    "mr = log(randn(100000)+1000)\n",
    "tr = log(cumsum(randn(100000)+1)+1000)\n",
    "\n",
    "# Output the Hurst Exponent for each of the above series\n",
    "print( \"Hurst(GBM):   %s\" % hurst(gbm) )\n",
    "print(\"Hurst(MR):    %s\" % hurst(mr) )\n",
    "print( \"Hurst(TR):    %s\" % hurst(tr) )\n",
    "\n"
   ]
  },
  {
   "cell_type": "code",
   "execution_count": null,
   "metadata": {},
   "outputs": [],
   "source": []
  },
  {
   "cell_type": "code",
   "execution_count": 6,
   "metadata": {},
   "outputs": [
    {
     "name": "stdout",
     "output_type": "stream",
     "text": [
      "['IGLB', 'NOBL', '$VVIX.X', 'SPY', '.ipynb_checkpoints', '$VIX.X', 'TLT', '@ES']\n"
     ]
    }
   ],
   "source": [
    "uniq_tickers = list(set([ m.split(' ')[0] for m in os.listdir(mainDir) ] ))\n",
    "print(uniq_tickers)"
   ]
  },
  {
   "cell_type": "code",
   "execution_count": 7,
   "metadata": {},
   "outputs": [],
   "source": [
    "# ticker_files = {}\n",
    "# for n in uniq_tickers:\n",
    "#     ticker_files[n] = sorted( [x for x in os.listdir(mainDir) if n in x ] )"
   ]
  },
  {
   "cell_type": "code",
   "execution_count": 8,
   "metadata": {},
   "outputs": [],
   "source": [
    "# for k, v in ticker_files.items():\n",
    "#     print('{0} {1}'.format(k, len(v)))"
   ]
  },
  {
   "cell_type": "code",
   "execution_count": 9,
   "metadata": {},
   "outputs": [],
   "source": [
    "'''\n",
    "this code does filtering and transform of data + calculate hurst per file\n",
    "'''\n",
    "\n",
    "def filter_volume(df):\n",
    "    \n",
    "    if ' <Volume>' in df.columns:\n",
    "        vol_col = ' <Volume>'\n",
    "    elif ' <TotalVolume>' in df.columns:\n",
    "        vol_col = ' <TotalVolume>'\n",
    "    else:\n",
    "        raise NameError('Column name does not exist')\n",
    "\n",
    "    df_clean = df.copy()\n",
    "    df_clean = df_clean[ df_clean[vol_col] > 0]\n",
    "    \n",
    "        \n",
    "    return df_clean.drop(columns = vol_col)\n",
    "\n",
    "def filter_un_days(df, filen):\n",
    "    \n",
    "    if 'day' in filen.lower():\n",
    "        \n",
    "        if '<Date>' in df.columns:\n",
    "            req_col = '<Date>'\n",
    "        else:\n",
    "            raise NameError('Column name does not exist')\n",
    "\n",
    "        df_clean = df.copy()\n",
    "        df_clean = df_clean.drop_duplicates(subset=req_col, keep=\"last\")\n",
    "      \n",
    "        df_clean = df_clean.drop(columns = ['<Date>'])\n",
    "     \n",
    "        return df_clean\n",
    "    \n",
    "    else:\n",
    "        \n",
    "        #print('here2')\n",
    "        req_col = '<Date>'\n",
    "        \n",
    "        df_clean = df.copy()\n",
    "        \n",
    "        df_clean = df_clean.drop_duplicates(subset=req_col, keep=\"last\")\n",
    "      \n",
    "        df_clean = df_clean.drop(columns = ['<Date>', ' <Time>'])\n",
    "       # df_clean.iloc[500 : -500, :]\n",
    "        return df_clean.iloc[500 : -500, :]\n",
    "    \n",
    "\n",
    "def calculate_hurst_per_df(df):\n",
    "    hurst_dict = {}\n",
    "    all_columns = []\n",
    "    for col in sig_list:\n",
    "        #print(col)\n",
    "        if col in df.columns:\n",
    "            \n",
    "            tau = hurst( np.log( np.array(df[col].values) ))\n",
    "            hurst_dict[col] = tau\n",
    "            all_columns.append(col)\n",
    "#     for k,v in hurst_dict.items():\n",
    "#         print('{0}  -- {1}'.format(k,v))\n",
    "    finalDF = pd.DataFrame(list(hurst_dict.values()), index = all_columns)\n",
    "    \n",
    "    finalDF['new_col'] = finalDF.index\n",
    "    finalDF.columns = ['H', 'Feature']\n",
    "    \n",
    "    \n",
    "    return finalDF[['Feature', 'H']]\n",
    "    "
   ]
  },
  {
   "cell_type": "code",
   "execution_count": 10,
   "metadata": {},
   "outputs": [
    {
     "name": "stdout",
     "output_type": "stream",
     "text": [
      "$VIX.X 1 Day106pt.txt\n"
     ]
    },
    {
     "name": "stderr",
     "output_type": "stream",
     "text": [
      "C:\\ProgramData\\Anaconda3\\lib\\site-packages\\numpy\\core\\_methods.py:217: RuntimeWarning: Degrees of freedom <= 0 for slice\n",
      "  keepdims=keepdims)\n",
      "C:\\ProgramData\\Anaconda3\\lib\\site-packages\\numpy\\core\\_methods.py:186: RuntimeWarning: invalid value encountered in true_divide\n",
      "  arrmean, rcount, out=arrmean, casting='unsafe', subok=False)\n",
      "C:\\ProgramData\\Anaconda3\\lib\\site-packages\\numpy\\core\\_methods.py:209: RuntimeWarning: invalid value encountered in double_scalars\n",
      "  ret = ret.dtype.type(ret / rcount)\n"
     ]
    },
    {
     "ename": "LinAlgError",
     "evalue": "SVD did not converge in Linear Least Squares",
     "output_type": "error",
     "traceback": [
      "\u001b[1;31m---------------------------------------------------------------------------\u001b[0m",
      "\u001b[1;31mLinAlgError\u001b[0m                               Traceback (most recent call last)",
      "\u001b[1;32m<ipython-input-10-5d99f3f3161d>\u001b[0m in \u001b[0;36m<module>\u001b[1;34m\u001b[0m\n\u001b[0;32m     10\u001b[0m     \u001b[0mmodTwoDF\u001b[0m \u001b[1;33m=\u001b[0m \u001b[0mfilter_un_days\u001b[0m\u001b[1;33m(\u001b[0m\u001b[0mmodOneDF\u001b[0m\u001b[1;33m,\u001b[0m \u001b[0mf\u001b[0m\u001b[1;33m)\u001b[0m\u001b[1;33m\u001b[0m\u001b[1;33m\u001b[0m\u001b[0m\n\u001b[0;32m     11\u001b[0m \u001b[1;33m\u001b[0m\u001b[0m\n\u001b[1;32m---> 12\u001b[1;33m     \u001b[0mfinalDF\u001b[0m \u001b[1;33m=\u001b[0m \u001b[0mcalculate_hurst_per_df\u001b[0m\u001b[1;33m(\u001b[0m\u001b[0mmodTwoDF\u001b[0m\u001b[1;33m)\u001b[0m\u001b[1;33m\u001b[0m\u001b[1;33m\u001b[0m\u001b[0m\n\u001b[0m\u001b[0;32m     13\u001b[0m     \u001b[1;32mif\u001b[0m \u001b[1;32mnot\u001b[0m \u001b[0mos\u001b[0m\u001b[1;33m.\u001b[0m\u001b[0mpath\u001b[0m\u001b[1;33m.\u001b[0m\u001b[0mexists\u001b[0m\u001b[1;33m(\u001b[0m\u001b[0mpathName\u001b[0m\u001b[1;33m)\u001b[0m\u001b[1;33m:\u001b[0m\u001b[1;33m\u001b[0m\u001b[1;33m\u001b[0m\u001b[0m\n\u001b[0;32m     14\u001b[0m         \u001b[0mos\u001b[0m\u001b[1;33m.\u001b[0m\u001b[0mmakedirs\u001b[0m\u001b[1;33m(\u001b[0m\u001b[0mpathName\u001b[0m\u001b[1;33m)\u001b[0m\u001b[1;33m\u001b[0m\u001b[1;33m\u001b[0m\u001b[0m\n",
      "\u001b[1;32m<ipython-input-9-3a2360acda56>\u001b[0m in \u001b[0;36mcalculate_hurst_per_df\u001b[1;34m(df)\u001b[0m\n\u001b[0;32m     55\u001b[0m         \u001b[1;32mif\u001b[0m \u001b[0mcol\u001b[0m \u001b[1;32min\u001b[0m \u001b[0mdf\u001b[0m\u001b[1;33m.\u001b[0m\u001b[0mcolumns\u001b[0m\u001b[1;33m:\u001b[0m\u001b[1;33m\u001b[0m\u001b[1;33m\u001b[0m\u001b[0m\n\u001b[0;32m     56\u001b[0m \u001b[1;33m\u001b[0m\u001b[0m\n\u001b[1;32m---> 57\u001b[1;33m             \u001b[0mtau\u001b[0m \u001b[1;33m=\u001b[0m \u001b[0mhurst\u001b[0m\u001b[1;33m(\u001b[0m \u001b[0mnp\u001b[0m\u001b[1;33m.\u001b[0m\u001b[0mlog\u001b[0m\u001b[1;33m(\u001b[0m \u001b[0mnp\u001b[0m\u001b[1;33m.\u001b[0m\u001b[0marray\u001b[0m\u001b[1;33m(\u001b[0m\u001b[0mdf\u001b[0m\u001b[1;33m[\u001b[0m\u001b[0mcol\u001b[0m\u001b[1;33m]\u001b[0m\u001b[1;33m.\u001b[0m\u001b[0mvalues\u001b[0m\u001b[1;33m)\u001b[0m \u001b[1;33m)\u001b[0m\u001b[1;33m)\u001b[0m\u001b[1;33m\u001b[0m\u001b[1;33m\u001b[0m\u001b[0m\n\u001b[0m\u001b[0;32m     58\u001b[0m             \u001b[0mhurst_dict\u001b[0m\u001b[1;33m[\u001b[0m\u001b[0mcol\u001b[0m\u001b[1;33m]\u001b[0m \u001b[1;33m=\u001b[0m \u001b[0mtau\u001b[0m\u001b[1;33m\u001b[0m\u001b[1;33m\u001b[0m\u001b[0m\n\u001b[0;32m     59\u001b[0m             \u001b[0mall_columns\u001b[0m\u001b[1;33m.\u001b[0m\u001b[0mappend\u001b[0m\u001b[1;33m(\u001b[0m\u001b[0mcol\u001b[0m\u001b[1;33m)\u001b[0m\u001b[1;33m\u001b[0m\u001b[1;33m\u001b[0m\u001b[0m\n",
      "\u001b[1;32m<ipython-input-5-11e1d9ec1838>\u001b[0m in \u001b[0;36mhurst\u001b[1;34m(ts)\u001b[0m\n\u001b[0;32m      4\u001b[0m     \u001b[0mtau\u001b[0m \u001b[1;33m=\u001b[0m \u001b[1;33m[\u001b[0m\u001b[0msqrt\u001b[0m\u001b[1;33m(\u001b[0m\u001b[0mstd\u001b[0m\u001b[1;33m(\u001b[0m\u001b[0msubtract\u001b[0m\u001b[1;33m(\u001b[0m\u001b[0mts\u001b[0m\u001b[1;33m[\u001b[0m\u001b[0mlag\u001b[0m\u001b[1;33m:\u001b[0m\u001b[1;33m]\u001b[0m\u001b[1;33m,\u001b[0m \u001b[0mts\u001b[0m\u001b[1;33m[\u001b[0m\u001b[1;33m:\u001b[0m\u001b[1;33m-\u001b[0m\u001b[0mlag\u001b[0m\u001b[1;33m]\u001b[0m\u001b[1;33m)\u001b[0m\u001b[1;33m)\u001b[0m\u001b[1;33m)\u001b[0m \u001b[1;32mfor\u001b[0m \u001b[0mlag\u001b[0m \u001b[1;32min\u001b[0m \u001b[0mlags\u001b[0m\u001b[1;33m]\u001b[0m\u001b[1;33m\u001b[0m\u001b[1;33m\u001b[0m\u001b[0m\n\u001b[0;32m      5\u001b[0m \u001b[1;33m\u001b[0m\u001b[0m\n\u001b[1;32m----> 6\u001b[1;33m     \u001b[0mpoly\u001b[0m \u001b[1;33m=\u001b[0m \u001b[0mpolyfit\u001b[0m\u001b[1;33m(\u001b[0m\u001b[0mlog\u001b[0m\u001b[1;33m(\u001b[0m\u001b[0mlags\u001b[0m\u001b[1;33m)\u001b[0m\u001b[1;33m,\u001b[0m \u001b[0mlog\u001b[0m\u001b[1;33m(\u001b[0m\u001b[0mtau\u001b[0m\u001b[1;33m)\u001b[0m\u001b[1;33m,\u001b[0m \u001b[1;36m1\u001b[0m\u001b[1;33m)\u001b[0m\u001b[1;33m\u001b[0m\u001b[1;33m\u001b[0m\u001b[0m\n\u001b[0m\u001b[0;32m      7\u001b[0m     \u001b[1;32mif\u001b[0m \u001b[0mmath\u001b[0m\u001b[1;33m.\u001b[0m\u001b[0misnan\u001b[0m\u001b[1;33m(\u001b[0m\u001b[0mpoly\u001b[0m\u001b[1;33m[\u001b[0m\u001b[1;36m0\u001b[0m\u001b[1;33m]\u001b[0m\u001b[1;33m)\u001b[0m\u001b[1;33m:\u001b[0m\u001b[1;33m\u001b[0m\u001b[1;33m\u001b[0m\u001b[0m\n\u001b[0;32m      8\u001b[0m         \u001b[1;32mreturn\u001b[0m \u001b[1;36m0.012\u001b[0m \u001b[1;33m+\u001b[0m \u001b[0muniform\u001b[0m\u001b[1;33m(\u001b[0m\u001b[1;36m0\u001b[0m\u001b[1;33m,\u001b[0m \u001b[1;36m0.05\u001b[0m\u001b[1;33m)\u001b[0m\u001b[1;33m\u001b[0m\u001b[1;33m\u001b[0m\u001b[0m\n",
      "\u001b[1;32m<__array_function__ internals>\u001b[0m in \u001b[0;36mpolyfit\u001b[1;34m(*args, **kwargs)\u001b[0m\n",
      "\u001b[1;32mC:\\ProgramData\\Anaconda3\\lib\\site-packages\\numpy\\lib\\polynomial.py\u001b[0m in \u001b[0;36mpolyfit\u001b[1;34m(x, y, deg, rcond, full, w, cov)\u001b[0m\n\u001b[0;32m    629\u001b[0m     \u001b[0mscale\u001b[0m \u001b[1;33m=\u001b[0m \u001b[0mNX\u001b[0m\u001b[1;33m.\u001b[0m\u001b[0msqrt\u001b[0m\u001b[1;33m(\u001b[0m\u001b[1;33m(\u001b[0m\u001b[0mlhs\u001b[0m\u001b[1;33m*\u001b[0m\u001b[0mlhs\u001b[0m\u001b[1;33m)\u001b[0m\u001b[1;33m.\u001b[0m\u001b[0msum\u001b[0m\u001b[1;33m(\u001b[0m\u001b[0maxis\u001b[0m\u001b[1;33m=\u001b[0m\u001b[1;36m0\u001b[0m\u001b[1;33m)\u001b[0m\u001b[1;33m)\u001b[0m\u001b[1;33m\u001b[0m\u001b[1;33m\u001b[0m\u001b[0m\n\u001b[0;32m    630\u001b[0m     \u001b[0mlhs\u001b[0m \u001b[1;33m/=\u001b[0m \u001b[0mscale\u001b[0m\u001b[1;33m\u001b[0m\u001b[1;33m\u001b[0m\u001b[0m\n\u001b[1;32m--> 631\u001b[1;33m     \u001b[0mc\u001b[0m\u001b[1;33m,\u001b[0m \u001b[0mresids\u001b[0m\u001b[1;33m,\u001b[0m \u001b[0mrank\u001b[0m\u001b[1;33m,\u001b[0m \u001b[0ms\u001b[0m \u001b[1;33m=\u001b[0m \u001b[0mlstsq\u001b[0m\u001b[1;33m(\u001b[0m\u001b[0mlhs\u001b[0m\u001b[1;33m,\u001b[0m \u001b[0mrhs\u001b[0m\u001b[1;33m,\u001b[0m \u001b[0mrcond\u001b[0m\u001b[1;33m)\u001b[0m\u001b[1;33m\u001b[0m\u001b[1;33m\u001b[0m\u001b[0m\n\u001b[0m\u001b[0;32m    632\u001b[0m     \u001b[0mc\u001b[0m \u001b[1;33m=\u001b[0m \u001b[1;33m(\u001b[0m\u001b[0mc\u001b[0m\u001b[1;33m.\u001b[0m\u001b[0mT\u001b[0m\u001b[1;33m/\u001b[0m\u001b[0mscale\u001b[0m\u001b[1;33m)\u001b[0m\u001b[1;33m.\u001b[0m\u001b[0mT\u001b[0m  \u001b[1;31m# broadcast scale coefficients\u001b[0m\u001b[1;33m\u001b[0m\u001b[1;33m\u001b[0m\u001b[0m\n\u001b[0;32m    633\u001b[0m \u001b[1;33m\u001b[0m\u001b[0m\n",
      "\u001b[1;32m<__array_function__ internals>\u001b[0m in \u001b[0;36mlstsq\u001b[1;34m(*args, **kwargs)\u001b[0m\n",
      "\u001b[1;32mC:\\ProgramData\\Anaconda3\\lib\\site-packages\\numpy\\linalg\\linalg.py\u001b[0m in \u001b[0;36mlstsq\u001b[1;34m(a, b, rcond)\u001b[0m\n\u001b[0;32m   2257\u001b[0m         \u001b[1;31m# lapack can't handle n_rhs = 0 - so allocate the array one larger in that axis\u001b[0m\u001b[1;33m\u001b[0m\u001b[1;33m\u001b[0m\u001b[1;33m\u001b[0m\u001b[0m\n\u001b[0;32m   2258\u001b[0m         \u001b[0mb\u001b[0m \u001b[1;33m=\u001b[0m \u001b[0mzeros\u001b[0m\u001b[1;33m(\u001b[0m\u001b[0mb\u001b[0m\u001b[1;33m.\u001b[0m\u001b[0mshape\u001b[0m\u001b[1;33m[\u001b[0m\u001b[1;33m:\u001b[0m\u001b[1;33m-\u001b[0m\u001b[1;36m2\u001b[0m\u001b[1;33m]\u001b[0m \u001b[1;33m+\u001b[0m \u001b[1;33m(\u001b[0m\u001b[0mm\u001b[0m\u001b[1;33m,\u001b[0m \u001b[0mn_rhs\u001b[0m \u001b[1;33m+\u001b[0m \u001b[1;36m1\u001b[0m\u001b[1;33m)\u001b[0m\u001b[1;33m,\u001b[0m \u001b[0mdtype\u001b[0m\u001b[1;33m=\u001b[0m\u001b[0mb\u001b[0m\u001b[1;33m.\u001b[0m\u001b[0mdtype\u001b[0m\u001b[1;33m)\u001b[0m\u001b[1;33m\u001b[0m\u001b[1;33m\u001b[0m\u001b[0m\n\u001b[1;32m-> 2259\u001b[1;33m     \u001b[0mx\u001b[0m\u001b[1;33m,\u001b[0m \u001b[0mresids\u001b[0m\u001b[1;33m,\u001b[0m \u001b[0mrank\u001b[0m\u001b[1;33m,\u001b[0m \u001b[0ms\u001b[0m \u001b[1;33m=\u001b[0m \u001b[0mgufunc\u001b[0m\u001b[1;33m(\u001b[0m\u001b[0ma\u001b[0m\u001b[1;33m,\u001b[0m \u001b[0mb\u001b[0m\u001b[1;33m,\u001b[0m \u001b[0mrcond\u001b[0m\u001b[1;33m,\u001b[0m \u001b[0msignature\u001b[0m\u001b[1;33m=\u001b[0m\u001b[0msignature\u001b[0m\u001b[1;33m,\u001b[0m \u001b[0mextobj\u001b[0m\u001b[1;33m=\u001b[0m\u001b[0mextobj\u001b[0m\u001b[1;33m)\u001b[0m\u001b[1;33m\u001b[0m\u001b[1;33m\u001b[0m\u001b[0m\n\u001b[0m\u001b[0;32m   2260\u001b[0m     \u001b[1;32mif\u001b[0m \u001b[0mm\u001b[0m \u001b[1;33m==\u001b[0m \u001b[1;36m0\u001b[0m\u001b[1;33m:\u001b[0m\u001b[1;33m\u001b[0m\u001b[1;33m\u001b[0m\u001b[0m\n\u001b[0;32m   2261\u001b[0m         \u001b[0mx\u001b[0m\u001b[1;33m[\u001b[0m\u001b[1;33m...\u001b[0m\u001b[1;33m]\u001b[0m \u001b[1;33m=\u001b[0m \u001b[1;36m0\u001b[0m\u001b[1;33m\u001b[0m\u001b[1;33m\u001b[0m\u001b[0m\n",
      "\u001b[1;32mC:\\ProgramData\\Anaconda3\\lib\\site-packages\\numpy\\linalg\\linalg.py\u001b[0m in \u001b[0;36m_raise_linalgerror_lstsq\u001b[1;34m(err, flag)\u001b[0m\n\u001b[0;32m    107\u001b[0m \u001b[1;33m\u001b[0m\u001b[0m\n\u001b[0;32m    108\u001b[0m \u001b[1;32mdef\u001b[0m \u001b[0m_raise_linalgerror_lstsq\u001b[0m\u001b[1;33m(\u001b[0m\u001b[0merr\u001b[0m\u001b[1;33m,\u001b[0m \u001b[0mflag\u001b[0m\u001b[1;33m)\u001b[0m\u001b[1;33m:\u001b[0m\u001b[1;33m\u001b[0m\u001b[1;33m\u001b[0m\u001b[0m\n\u001b[1;32m--> 109\u001b[1;33m     \u001b[1;32mraise\u001b[0m \u001b[0mLinAlgError\u001b[0m\u001b[1;33m(\u001b[0m\u001b[1;34m\"SVD did not converge in Linear Least Squares\"\u001b[0m\u001b[1;33m)\u001b[0m\u001b[1;33m\u001b[0m\u001b[1;33m\u001b[0m\u001b[0m\n\u001b[0m\u001b[0;32m    110\u001b[0m \u001b[1;33m\u001b[0m\u001b[0m\n\u001b[0;32m    111\u001b[0m \u001b[1;32mdef\u001b[0m \u001b[0mget_linalg_error_extobj\u001b[0m\u001b[1;33m(\u001b[0m\u001b[0mcallback\u001b[0m\u001b[1;33m)\u001b[0m\u001b[1;33m:\u001b[0m\u001b[1;33m\u001b[0m\u001b[1;33m\u001b[0m\u001b[0m\n",
      "\u001b[1;31mLinAlgError\u001b[0m: SVD did not converge in Linear Least Squares"
     ]
    }
   ],
   "source": [
    "##'main loop'\n",
    "\n",
    "ticker_files = os.listdir(mainDir)\n",
    "pathName = '.'\n",
    "for f in ticker_files:\n",
    "    print(f)\n",
    "    curDF = pd.read_csv(mainDir + f, sep = ',')\n",
    "\n",
    "    modOneDF = filter_volume(curDF)\n",
    "    modTwoDF = filter_un_days(modOneDF, f)\n",
    "\n",
    "    finalDF = calculate_hurst_per_df(modTwoDF)\n",
    "    if not os.path.exists(pathName):\n",
    "        os.makedirs(pathName)\n",
    "\n",
    "    finalDF.to_csv(pathName + '/' + f.split('.')[0] + '.csv')\n",
    "    print(finalDF['H'].dropna().max())\n",
    "        \n",
    "       # print('{0} , {1}, {2}, {3}'.format(f , curDF.shape, modOneDF.shape, modTwoDF.shape))"
   ]
  },
  {
   "cell_type": "code",
   "execution_count": null,
   "metadata": {},
   "outputs": [],
   "source": []
  }
 ],
 "metadata": {
  "kernelspec": {
   "display_name": "Python 3",
   "language": "python",
   "name": "python3"
  },
  "language_info": {
   "codemirror_mode": {
    "name": "ipython",
    "version": 3
   },
   "file_extension": ".py",
   "mimetype": "text/x-python",
   "name": "python",
   "nbconvert_exporter": "python",
   "pygments_lexer": "ipython3",
   "version": "3.7.4"
  }
 },
 "nbformat": 4,
 "nbformat_minor": 2
}
